{
 "cells": [
  {
   "cell_type": "code",
   "execution_count": 31,
   "id": "2e3fff3c",
   "metadata": {},
   "outputs": [],
   "source": [
    "\n",
    "import numpy as np\n",
    "from qiskit import QuantumCircuit\n",
    "from qiskit.visualization import plot_histogram"
   ]
  },
  {
   "cell_type": "code",
   "execution_count": 32,
   "id": "004428ed",
   "metadata": {},
   "outputs": [],
   "source": [
    "# Create a Quantum Circuit acting on a quantum register of four qubits (For half adder)\n",
    "#The first parameter is Qubits, the second is classical bits.\n",
    "#For the purposes of this half adder, I will require only 2 classical bits\n",
    "circ = QuantumCircuit(4,2)"
   ]
  },
  {
   "cell_type": "code",
   "execution_count": 33,
   "id": "6863247a",
   "metadata": {},
   "outputs": [
    {
     "data": {
      "text/plain": [
       "<qiskit.circuit.instructionset.InstructionSet at 0x138c248b0>"
      ]
     },
     "execution_count": 33,
     "metadata": {},
     "output_type": "execute_result"
    }
   ],
   "source": [
    "# this makes the first two qubits (1, 1), the normal state of a qubit is (0) \n",
    "# and the two lines flip it using the x (not) operation\n",
    "circ.x(0) \n",
    "circ.x(1)"
   ]
  },
  {
   "cell_type": "code",
   "execution_count": 34,
   "id": "eeb49ead",
   "metadata": {},
   "outputs": [
    {
     "data": {
      "text/plain": [
       "<qiskit.circuit.instructionset.InstructionSet at 0x138b57d60>"
      ]
     },
     "execution_count": 34,
     "metadata": {},
     "output_type": "execute_result"
    }
   ],
   "source": [
    "#now I will use the C-NOT or Controlled Not (Classical:XOR) to get the sum of the half adder. \n",
    "#the CNOT works by using a control qubit and a target one, it performs the XOR (Technically the NOT) on the target.\n",
    "circ.cx(0,2)\n",
    "circ.cx(1,2)\n",
    "#Our sum is now finished, we need to find the carry."
   ]
  },
  {
   "cell_type": "code",
   "execution_count": 35,
   "id": "569d0b1f",
   "metadata": {},
   "outputs": [
    {
     "data": {
      "text/plain": [
       "<qiskit.circuit.instructionset.InstructionSet at 0x10f72fdc0>"
      ]
     },
     "execution_count": 35,
     "metadata": {},
     "output_type": "execute_result"
    }
   ],
   "source": [
    "#Now we will use the Toffoli gate (Classical:AND) to get the carry of the Half-Adder\n",
    "#The Toffoli gate works by having two control qubits and one target qubit, when both the control qubits are of value 1\n",
    "#It performs a NOT (x) operation on the target, which means it turns it to a value of 1.\n",
    "circ.ccx(0,1,3)\n",
    "#Now qubit3 has the carry value (AND) and qubit2 has the sum value (XOR)"
   ]
  },
  {
   "cell_type": "code",
   "execution_count": 36,
   "id": "396c2d9a",
   "metadata": {},
   "outputs": [
    {
     "data": {
      "text/html": [
       "<pre style=\"word-wrap: normal;white-space: pre;background: #fff0;line-height: 1.1;font-family: &quot;Courier New&quot;,Courier,monospace\">     ┌───┐               \n",
       "q_0: ┤ X ├──■─────────■──\n",
       "     ├───┤  │         │  \n",
       "q_1: ┤ X ├──┼────■────■──\n",
       "     └───┘┌─┴─┐┌─┴─┐  │  \n",
       "q_2: ─────┤ X ├┤ X ├──┼──\n",
       "          └───┘└───┘┌─┴─┐\n",
       "q_3: ───────────────┤ X ├\n",
       "                    └───┘\n",
       "c: 2/════════════════════\n",
       "                         </pre>"
      ],
      "text/plain": [
       "     ┌───┐               \n",
       "q_0: ┤ X ├──■─────────■──\n",
       "     ├───┤  │         │  \n",
       "q_1: ┤ X ├──┼────■────■──\n",
       "     └───┘┌─┴─┐┌─┴─┐  │  \n",
       "q_2: ─────┤ X ├┤ X ├──┼──\n",
       "          └───┘└───┘┌─┴─┐\n",
       "q_3: ───────────────┤ X ├\n",
       "                    └───┘\n",
       "c: 2/════════════════════\n",
       "                         "
      ]
     },
     "execution_count": 36,
     "metadata": {},
     "output_type": "execute_result"
    }
   ],
   "source": [
    "#But for fun, let's visualize our Half Adder circuit.\n",
    "circ.draw()"
   ]
  },
  {
   "cell_type": "code",
   "execution_count": 37,
   "id": "c6a6d2ec",
   "metadata": {},
   "outputs": [
    {
     "data": {
      "text/plain": [
       "<qiskit.circuit.instructionset.InstructionSet at 0x138c24370>"
      ]
     },
     "execution_count": 37,
     "metadata": {},
     "output_type": "execute_result"
    }
   ],
   "source": [
    "#Now let's measure the values of our Qubits!\n",
    "#I will measure for now, qubit2 and qubit3\n",
    "circ.measure(2,0)\n",
    "circ.measure(3,1)\n"
   ]
  },
  {
   "cell_type": "code",
   "execution_count": 38,
   "id": "34acb2b4",
   "metadata": {},
   "outputs": [
    {
     "data": {
      "text/html": [
       "<pre style=\"word-wrap: normal;white-space: pre;background: #fff0;line-height: 1.1;font-family: &quot;Courier New&quot;,Courier,monospace\">     ┌───┐                     \n",
       "q_0: ┤ X ├──■─────────■────────\n",
       "     ├───┤  │         │        \n",
       "q_1: ┤ X ├──┼────■────■────────\n",
       "     └───┘┌─┴─┐┌─┴─┐  │  ┌─┐   \n",
       "q_2: ─────┤ X ├┤ X ├──┼──┤M├───\n",
       "          └───┘└───┘┌─┴─┐└╥┘┌─┐\n",
       "q_3: ───────────────┤ X ├─╫─┤M├\n",
       "                    └───┘ ║ └╥┘\n",
       "c: 2/═════════════════════╩══╩═\n",
       "                          0  1 </pre>"
      ],
      "text/plain": [
       "     ┌───┐                     \n",
       "q_0: ┤ X ├──■─────────■────────\n",
       "     ├───┤  │         │        \n",
       "q_1: ┤ X ├──┼────■────■────────\n",
       "     └───┘┌─┴─┐┌─┴─┐  │  ┌─┐   \n",
       "q_2: ─────┤ X ├┤ X ├──┼──┤M├───\n",
       "          └───┘└───┘┌─┴─┐└╥┘┌─┐\n",
       "q_3: ───────────────┤ X ├─╫─┤M├\n",
       "                    └───┘ ║ └╥┘\n",
       "c: 2/═════════════════════╩══╩═\n",
       "                          0  1 "
      ]
     },
     "execution_count": 38,
     "metadata": {},
     "output_type": "execute_result"
    }
   ],
   "source": [
    "#Now for fun again let's see our qubits being measured on drawing!\n",
    "circ.draw()"
   ]
  },
  {
   "cell_type": "code",
   "execution_count": 39,
   "id": "d758ad19",
   "metadata": {},
   "outputs": [],
   "source": [
    "#lets check the value of the qubits using a simulator!\n",
    "from qiskit import transpile \n",
    "from qiskit import IBMQ\n",
    "#IBMQ.save_account('')\n",
    "# Use AerSimulator\n",
    "from qiskit import Aer\n"
   ]
  },
  {
   "cell_type": "code",
   "execution_count": 40,
   "id": "de08b897",
   "metadata": {},
   "outputs": [
    {
     "data": {
      "image/png": "[encoded data removed]",
      "text/plain": [
       "<Figure size 700x500 with 1 Axes>"
      ]
     },
     "execution_count": 40,
     "metadata": {},
     "output_type": "execute_result"
    }
   ],
   "source": [
    "sim = Aer.get_backend('aer_simulator') \n",
    "result = sim.run(circ).result()\n",
    "counts = result.get_counts()\n",
    "plot_histogram(counts)"
   ]
  },
  {
   "cell_type": "code",
   "execution_count": null,
   "id": "4b35bd83",
   "metadata": {},
   "outputs": [],
   "source": []
  }
 ],
 "metadata": {
  "kernelspec": {
   "display_name": "Python 3 (ipykernel)",
   "language": "python",
   "name": "python3"
  },
  "language_info": {
   "codemirror_mode": {
    "name": "ipython",
    "version": 3
   },
   "file_extension": ".py",
   "mimetype": "text/x-python",
   "name": "python",
   "nbconvert_exporter": "python",
   "pygments_lexer": "ipython3",
   "version": "3.11.5"
  }
 },
 "nbformat": 4,
 "nbformat_minor": 5
}
