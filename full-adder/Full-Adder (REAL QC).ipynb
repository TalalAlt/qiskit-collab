{
 "cells": [
  {
   "cell_type": "code",
   "execution_count": 36,
   "id": "95d692b3",
   "metadata": {},
   "outputs": [],
   "source": [
    "import numpy as np\n",
    "from qiskit import QuantumCircuit\n",
    "from qiskit.visualization import plot_histogram"
   ]
  },
  {
   "cell_type": "code",
   "execution_count": 37,
   "id": "5d24daa8",
   "metadata": {},
   "outputs": [],
   "source": [
    "\n",
    "circ = QuantumCircuit(7,2)"
   ]
  },
  {
   "cell_type": "code",
   "execution_count": 38,
   "id": "9bbb1024",
   "metadata": {},
   "outputs": [
    {
     "data": {
      "text/plain": [
       "<qiskit.circuit.instructionset.InstructionSet at 0x12cfd6020>"
      ]
     },
     "execution_count": 38,
     "metadata": {},
     "output_type": "execute_result"
    }
   ],
   "source": [
    "#The input qubits turned made (1,1,1)\n",
    "circ.x(0) \n",
    "circ.x(1)\n",
    "circ.x(2) "
   ]
  },
  {
   "cell_type": "code",
   "execution_count": 39,
   "id": "b1e93808",
   "metadata": {},
   "outputs": [
    {
     "data": {
      "text/plain": [
       "<qiskit.circuit.instructionset.InstructionSet at 0x12cfd50c0>"
      ]
     },
     "execution_count": 39,
     "metadata": {},
     "output_type": "execute_result"
    }
   ],
   "source": [
    "#the XOR operations pertaining to qubit 0,1\n",
    "circ.cx(0,3)\n",
    "circ.cx(1,3) \n"
   ]
  },
  {
   "cell_type": "code",
   "execution_count": 40,
   "id": "7dd41738",
   "metadata": {},
   "outputs": [
    {
     "data": {
      "text/plain": [
       "<qiskit.circuit.instructionset.InstructionSet at 0x12cfd5360>"
      ]
     },
     "execution_count": 40,
     "metadata": {},
     "output_type": "execute_result"
    }
   ],
   "source": [
    "#The AND operations pertaining to qubit 0,1\n",
    "circ.ccx(0,1,4)\n",
    "\n",
    "#now unto operations done on the half adder (0,1) + qubit 2\n",
    "\n",
    "circ.ccx(2,3,5) #And operation on the half adder's sum + the value of qubit 2\n",
    "\n",
    "#producing full-adder sum\n",
    "circ.cx(2,3) #XOR operation between the value of the half adder's sum + the value of qubit 2 "
   ]
  },
  {
   "cell_type": "code",
   "execution_count": 41,
   "id": "4d588073",
   "metadata": {},
   "outputs": [
    {
     "data": {
      "text/plain": [
       "<qiskit.circuit.instructionset.InstructionSet at 0x12cfd5060>"
      ]
     },
     "execution_count": 41,
     "metadata": {},
     "output_type": "execute_result"
    }
   ],
   "source": [
    "#Now let's do an OR operation on the half adder's carry and the half adder + qubit 2 carry\n",
    "#I'm gonna use a nand to create OR gate through trofolli.\n",
    "\n",
    "#NOT operation on half adder carry value\n",
    "circ.x(4)\n",
    "\n",
    "#NOT operation on half adder + qubit 2 carry value \n",
    "circ.x(5)\n",
    "\n",
    "#AND operation on NOT (half adder carry) AND, NOT (half adder + qubit 2 carry) value to get carry of full adder\n",
    "circ.ccx(4,5,6)\n",
    "\n",
    "#and now NOT operation on carry of full adder to get an OR operation\n",
    "circ.x(6)"
   ]
  },
  {
   "cell_type": "code",
   "execution_count": 42,
   "id": "68e507aa",
   "metadata": {},
   "outputs": [
    {
     "data": {
      "text/plain": [
       "<qiskit.circuit.instructionset.InstructionSet at 0x12cfd6080>"
      ]
     },
     "execution_count": 42,
     "metadata": {},
     "output_type": "execute_result"
    }
   ],
   "source": [
    "#Okay now measuring sum and carry of full-adder\n",
    "circ.measure(3,0)\n",
    "circ.measure(6,1)"
   ]
  },
  {
   "cell_type": "code",
   "execution_count": 43,
   "id": "aff84644",
   "metadata": {},
   "outputs": [
    {
     "data": {
      "text/html": [
       "<pre style=\"word-wrap: normal;white-space: pre;background: #fff0;line-height: 1.1;font-family: &quot;Courier New&quot;,Courier,monospace\">     ┌───┐                                         \n",
       "q_0: ┤ X ├──■─────────■────────────────────────────\n",
       "     ├───┤  │         │                            \n",
       "q_1: ┤ X ├──┼────■────■────────────────────────────\n",
       "     ├───┤  │    │    │                            \n",
       "q_2: ┤ X ├──┼────┼────┼────■────■──────────────────\n",
       "     └───┘┌─┴─┐┌─┴─┐  │    │  ┌─┴─┐     ┌─┐        \n",
       "q_3: ─────┤ X ├┤ X ├──┼────■──┤ X ├─────┤M├────────\n",
       "          └───┘└───┘┌─┴─┐  │  ├───┤     └╥┘        \n",
       "q_4: ───────────────┤ X ├──┼──┤ X ├──■───╫─────────\n",
       "                    └───┘┌─┴─┐├───┤  │   ║         \n",
       "q_5: ────────────────────┤ X ├┤ X ├──■───╫─────────\n",
       "                         └───┘└───┘┌─┴─┐ ║ ┌───┐┌─┐\n",
       "q_6: ──────────────────────────────┤ X ├─╫─┤ X ├┤M├\n",
       "                                   └───┘ ║ └───┘└╥┘\n",
       "c: 2/════════════════════════════════════╩═══════╩═\n",
       "                                         0       1 </pre>"
      ],
      "text/plain": [
       "     ┌───┐                                         \n",
       "q_0: ┤ X ├──■─────────■────────────────────────────\n",
       "     ├───┤  │         │                            \n",
       "q_1: ┤ X ├──┼────■────■────────────────────────────\n",
       "     ├───┤  │    │    │                            \n",
       "q_2: ┤ X ├──┼────┼────┼────■────■──────────────────\n",
       "     └───┘┌─┴─┐┌─┴─┐  │    │  ┌─┴─┐     ┌─┐        \n",
       "q_3: ─────┤ X ├┤ X ├──┼────■──┤ X ├─────┤M├────────\n",
       "          └───┘└───┘┌─┴─┐  │  ├───┤     └╥┘        \n",
       "q_4: ───────────────┤ X ├──┼──┤ X ├──■───╫─────────\n",
       "                    └───┘┌─┴─┐├───┤  │   ║         \n",
       "q_5: ────────────────────┤ X ├┤ X ├──■───╫─────────\n",
       "                         └───┘└───┘┌─┴─┐ ║ ┌───┐┌─┐\n",
       "q_6: ──────────────────────────────┤ X ├─╫─┤ X ├┤M├\n",
       "                                   └───┘ ║ └───┘└╥┘\n",
       "c: 2/════════════════════════════════════╩═══════╩═\n",
       "                                         0       1 "
      ]
     },
     "execution_count": 43,
     "metadata": {},
     "output_type": "execute_result"
    }
   ],
   "source": [
    "#Now for fun let's see our circuit drawing!\n",
    "circ.draw()"
   ]
  },
  {
   "cell_type": "code",
   "execution_count": 44,
   "id": "7bc158de",
   "metadata": {},
   "outputs": [
    {
     "name": "stderr",
     "output_type": "stream",
     "text": [
      "configrc.store_credentials:WARNING:2023-10-19 19:48:26,804: Credentials already present. Set overwrite=True to overwrite.\n"
     ]
    }
   ],
   "source": [
    "#lets check the value of the qubits using an actual quantum computer!\n",
    "from qiskit import transpile \n",
    "from qiskit import IBMQ\n",
    "IBMQ.save_account('XXXXX')\n",
    "# Use AerSimulator\n",
    "from qiskit import Aer\n"
   ]
  },
  {
   "cell_type": "code",
   "execution_count": 45,
   "id": "fbf9117b",
   "metadata": {},
   "outputs": [],
   "source": [
    "IBMQ.load_account() # Load account from disk\n",
    "IBMQ.providers()    # List all available providers\n",
    "from qiskit_ibm_runtime import QiskitRuntimeService\n"
   ]
  },
  {
   "cell_type": "code",
   "execution_count": 46,
   "id": "d305a06f",
   "metadata": {},
   "outputs": [
    {
     "data": {
      "text/plain": [
       "[<IBMBackend('ibmq_qasm_simulator')>,\n",
       " <IBMBackend('simulator_stabilizer')>,\n",
       " <IBMBackend('ibm_nairobi')>,\n",
       " <IBMBackend('ibm_perth')>,\n",
       " <IBMBackend('ibm_brisbane')>,\n",
       " <IBMBackend('simulator_extended_stabilizer')>,\n",
       " <IBMBackend('simulator_mps')>,\n",
       " <IBMBackend('simulator_statevector')>,\n",
       " <IBMBackend('ibm_lagos')>]"
      ]
     },
     "execution_count": 46,
     "metadata": {},
     "output_type": "execute_result"
    }
   ],
   "source": [
    "# Initialize the account first.\n",
    "service = QiskitRuntimeService()\n",
    "\n",
    "service.backends()"
   ]
  },
  {
   "cell_type": "code",
   "execution_count": 47,
   "id": "2001db42",
   "metadata": {},
   "outputs": [
    {
     "data": {
      "text/html": [
       "<pre style=\"word-wrap: normal;white-space: pre;background: #fff0;line-height: 1.1;font-family: &quot;Courier New&quot;,Courier,monospace\">global phase: 3π/8\n",
       "            ┌───┐                                                         »\n",
       "q_2 -> 0 ───┤ X ├─────────────────────────────────────────────────────────»\n",
       "         ┌──┴───┴──┐┌────┐┌─────────┐               ┌───┐            ┌───┐»\n",
       "q_6 -> 1 ┤ Rz(π/2) ├┤ √X ├┤ Rz(π/2) ├───────────────┤ X ├─────■──────┤ X ├»\n",
       "         ├─────────┤├────┤├─────────┤               └─┬─┘     │      └─┬─┘»\n",
       "q_5 -> 2 ┤ Rz(π/2) ├┤ √X ├┤ Rz(π/2) ├─────────────────┼───────┼────────┼──»\n",
       "         ├─────────┤├────┤├─────────┤     ┌───┐       │     ┌─┴─┐      │  »\n",
       "q_4 -> 3 ┤ Rz(π/2) ├┤ √X ├┤ Rz(π/2) ├──■──┤ X ├──■────■─────┤ X ├──────■──»\n",
       "         └──┬───┬──┘└────┘└─────────┘  │  └─┬─┘  │          └───┘         »\n",
       "q_0 -> 4 ───┤ X ├─────■────────────────┼────┼────┼─────────────────────■──»\n",
       "            └───┘   ┌─┴─┐    ┌───┐   ┌─┴─┐  │  ┌─┴─┐┌───┐┌──────────┐┌─┴─┐»\n",
       "q_3 -> 5 ───────────┤ X ├────┤ X ├───┤ X ├──■──┤ X ├┤ X ├┤ Rz(-π/4) ├┤ X ├»\n",
       "            ┌───┐   └───┘    └─┬─┘   └───┘     └───┘└─┬─┘└──────────┘└───┘»\n",
       "q_1 -> 6 ───┤ X ├──────────────■──────────────────────■───────────────────»\n",
       "            └───┘                                                         »\n",
       "    c: 2/═════════════════════════════════════════════════════════════════»\n",
       "                                                                          »\n",
       "«                                                                              »\n",
       "«q_2 -> 0 ──────────────────────────────────────────────────────■──────────────»\n",
       "«                                   ┌───┐            ┌───┐    ┌─┴─┐ ┌─────────┐»\n",
       "«q_6 -> 1 ─────■────────────────────┤ X ├──────■─────┤ X ├────┤ X ├─┤ Rz(π/4) ├»\n",
       "«            ┌─┴─┐   ┌──────────┐   └─┬─┘    ┌─┴─┐   └─┬─┘    └───┘ └─────────┘»\n",
       "«q_5 -> 2 ───┤ X ├───┤ Rz(-π/4) ├─────■──────┤ X ├─────■───────────────────────»\n",
       "«            └───┘   └──────────┘            └───┘                             »\n",
       "«q_4 -> 3 ─────────────────────────────────────────────────────────────────────»\n",
       "«                                                                              »\n",
       "«q_0 -> 4 ─────────────────────────────────────■───────────────────────────────»\n",
       "«         ┌─────────┐   ┌───┐    ┌──────────┐┌─┴─┐┌──────────┐┌────┐┌─────────┐»\n",
       "«q_3 -> 5 ┤ Rz(π/4) ├───┤ X ├────┤ Rz(-π/4) ├┤ X ├┤ Rz(-π/4) ├┤ √X ├┤ Rz(π/2) ├»\n",
       "«         └─────────┘   └─┬─┘    ├─────────┬┘└───┘└──────────┘└────┘└─────────┘»\n",
       "«q_1 -> 6 ────────────────■──────┤ Rz(π/4) ├───────────────────────────────────»\n",
       "«                                └─────────┘                                   »\n",
       "«    c: 2/═════════════════════════════════════════════════════════════════════»\n",
       "«                                                                              »\n",
       "«                                                                             »\n",
       "«q_2 -> 0 ───────────────────■────────────────────────────────────────────────»\n",
       "«         ┌───┐┌──────────┐┌─┴─┐┌──────────┐┌────┐┌─────────┐                 »\n",
       "«q_6 -> 1 ┤ X ├┤ Rz(-π/4) ├┤ X ├┤ Rz(-π/4) ├┤ √X ├┤ Rz(π/2) ├──■──────────────»\n",
       "«         └─┬─┘├─────────┬┘└───┘└──────────┘└────┘└─────────┘  │              »\n",
       "«q_5 -> 2 ──■──┤ Rz(π/4) ├─────────────────────────────────────┼──────────────»\n",
       "«              └─────────┘                                   ┌─┴─┐┌──────────┐»\n",
       "«q_4 -> 3 ───────────────────────────────────────────────────┤ X ├┤ Rz(-π/4) ├»\n",
       "«                                                            └───┘└──────────┘»\n",
       "«q_0 -> 4 ────────────────────────────────────────────────────────────────────»\n",
       "«                                                                             »\n",
       "«q_3 -> 5 ────────────────────────────────────────────────────────────────────»\n",
       "«                                                                             »\n",
       "«q_1 -> 6 ────────────────────────────────────────────────────────────────────»\n",
       "«                                                                             »\n",
       "«    c: 2/════════════════════════════════════════════════════════════════════»\n",
       "«                                                                             »\n",
       "«                                                                            »\n",
       "«q_2 -> 0 ───────────────────────────────────────────────────────────────────»\n",
       "«                              ┌─────────┐                                   »\n",
       "«q_6 -> 1 ──────────────────■──┤ Rz(π/4) ├───────────────────────────────────»\n",
       "«                           │  └─────────┘                                   »\n",
       "«q_5 -> 2 ──────────────────┼────────────────────────────────────────────────»\n",
       "«         ┌───┐┌─────────┐┌─┴─┐┌──────────┐┌───┐┌──────────┐┌────┐┌─────────┐»\n",
       "«q_4 -> 3 ┤ X ├┤ Rz(π/4) ├┤ X ├┤ Rz(-π/4) ├┤ X ├┤ Rz(-π/4) ├┤ √X ├┤ Rz(π/2) ├»\n",
       "«         └─┬─┘└─────────┘└───┘└──────────┘└─┬─┘└──────────┘└────┘└─────────┘»\n",
       "«q_0 -> 4 ──┼────────────────────────────────┼───────────────────────────────»\n",
       "«           │                                │                               »\n",
       "«q_3 -> 5 ──■────────────────────────────────■───────────────────────────────»\n",
       "«                                                                            »\n",
       "«q_1 -> 6 ───────────────────────────────────────────────────────────────────»\n",
       "«                                                                            »\n",
       "«    c: 2/═══════════════════════════════════════════════════════════════════»\n",
       "«                                                                            »\n",
       "«                                                      ┌───┐              »\n",
       "«q_2 -> 0 ───────────────────────────────────────■─────┤ X ├──────■───────»\n",
       "«                        ┌───┐┌──────────┐┌───┐┌─┴─┐   └─┬─┘    ┌─┴─┐     »\n",
       "«q_6 -> 1 ───────────────┤ X ├┤ Rz(-π/4) ├┤ X ├┤ X ├─────■──────┤ X ├──■──»\n",
       "«                        └─┬─┘└──────────┘└─┬─┘└───┘            └───┘┌─┴─┐»\n",
       "«q_5 -> 2 ─────────────────┼────────────────┼────────────────────────┤ X ├»\n",
       "«         ┌───┐     ┌───┐  │  ┌─────────┐   │                        └───┘»\n",
       "«q_4 -> 3 ┤ X ├──■──┤ X ├──■──┤ Rz(π/4) ├───■─────────────────────────────»\n",
       "«         └─┬─┘  │  └─┬─┘     └──┬───┬──┘                                 »\n",
       "«q_0 -> 4 ──┼────┼────┼────■─────┤ X ├──────■─────────────────────────────»\n",
       "«           │  ┌─┴─┐  │  ┌─┴─┐   └─┬─┘    ┌─┴─┐     ┌─────────┐           »\n",
       "«q_3 -> 5 ──■──┤ X ├──■──┤ X ├─────■──────┤ X ├──■──┤ Rz(π/4) ├───■───────»\n",
       "«              └───┘     └───┘            └───┘┌─┴─┐├─────────┴┐┌─┴─┐     »\n",
       "«q_1 -> 6 ─────────────────────────────────────┤ X ├┤ Rz(-π/4) ├┤ X ├─────»\n",
       "«                                              └───┘└──────────┘└───┘     »\n",
       "«    c: 2/════════════════════════════════════════════════════════════════»\n",
       "«                                                                         »\n",
       "«                      ░       \n",
       "«q_2 -> 0 ─────────────░───────\n",
       "«         ┌─────────┐  ░       \n",
       "«q_6 -> 1 ┤ Rz(π/4) ├──░───────\n",
       "«         ├─────────┴┐ ░ ┌─┐   \n",
       "«q_5 -> 2 ┤ Rz(-π/4) ├─░─┤M├───\n",
       "«         └──────────┘ ░ └╥┘   \n",
       "«q_4 -> 3 ─────────────░──╫────\n",
       "«                      ░  ║ ┌─┐\n",
       "«q_0 -> 4 ─────────────░──╫─┤M├\n",
       "«                      ░  ║ └╥┘\n",
       "«q_3 -> 5 ─────────────░──╫──╫─\n",
       "«                      ░  ║  ║ \n",
       "«q_1 -> 6 ─────────────░──╫──╫─\n",
       "«                      ░  ║  ║ \n",
       "«    c: 2/════════════════╩══╩═\n",
       "«                         0  1 </pre>"
      ],
      "text/plain": [
       "global phase: 3π/8\n",
       "            ┌───┐                                                         »\n",
       "q_2 -> 0 ───┤ X ├─────────────────────────────────────────────────────────»\n",
       "         ┌──┴───┴──┐┌────┐┌─────────┐               ┌───┐            ┌───┐»\n",
       "q_6 -> 1 ┤ Rz(π/2) ├┤ √X ├┤ Rz(π/2) ├───────────────┤ X ├─────■──────┤ X ├»\n",
       "         ├─────────┤├────┤├─────────┤               └─┬─┘     │      └─┬─┘»\n",
       "q_5 -> 2 ┤ Rz(π/2) ├┤ √X ├┤ Rz(π/2) ├─────────────────┼───────┼────────┼──»\n",
       "         ├─────────┤├────┤├─────────┤     ┌───┐       │     ┌─┴─┐      │  »\n",
       "q_4 -> 3 ┤ Rz(π/2) ├┤ √X ├┤ Rz(π/2) ├──■──┤ X ├──■────■─────┤ X ├──────■──»\n",
       "         └──┬───┬──┘└────┘└─────────┘  │  └─┬─┘  │          └───┘         »\n",
       "q_0 -> 4 ───┤ X ├─────■────────────────┼────┼────┼─────────────────────■──»\n",
       "            └───┘   ┌─┴─┐    ┌───┐   ┌─┴─┐  │  ┌─┴─┐┌───┐┌──────────┐┌─┴─┐»\n",
       "q_3 -> 5 ───────────┤ X ├────┤ X ├───┤ X ├──■──┤ X ├┤ X ├┤ Rz(-π/4) ├┤ X ├»\n",
       "            ┌───┐   └───┘    └─┬─┘   └───┘     └───┘└─┬─┘└──────────┘└───┘»\n",
       "q_1 -> 6 ───┤ X ├──────────────■──────────────────────■───────────────────»\n",
       "            └───┘                                                         »\n",
       "    c: 2/═════════════════════════════════════════════════════════════════»\n",
       "                                                                          »\n",
       "«                                                                              »\n",
       "«q_2 -> 0 ──────────────────────────────────────────────────────■──────────────»\n",
       "«                                   ┌───┐            ┌───┐    ┌─┴─┐ ┌─────────┐»\n",
       "«q_6 -> 1 ─────■────────────────────┤ X ├──────■─────┤ X ├────┤ X ├─┤ Rz(π/4) ├»\n",
       "«            ┌─┴─┐   ┌──────────┐   └─┬─┘    ┌─┴─┐   └─┬─┘    └───┘ └─────────┘»\n",
       "«q_5 -> 2 ───┤ X ├───┤ Rz(-π/4) ├─────■──────┤ X ├─────■───────────────────────»\n",
       "«            └───┘   └──────────┘            └───┘                             »\n",
       "«q_4 -> 3 ─────────────────────────────────────────────────────────────────────»\n",
       "«                                                                              »\n",
       "«q_0 -> 4 ─────────────────────────────────────■───────────────────────────────»\n",
       "«         ┌─────────┐   ┌───┐    ┌──────────┐┌─┴─┐┌──────────┐┌────┐┌─────────┐»\n",
       "«q_3 -> 5 ┤ Rz(π/4) ├───┤ X ├────┤ Rz(-π/4) ├┤ X ├┤ Rz(-π/4) ├┤ √X ├┤ Rz(π/2) ├»\n",
       "«         └─────────┘   └─┬─┘    ├─────────┬┘└───┘└──────────┘└────┘└─────────┘»\n",
       "«q_1 -> 6 ────────────────■──────┤ Rz(π/4) ├───────────────────────────────────»\n",
       "«                                └─────────┘                                   »\n",
       "«    c: 2/═════════════════════════════════════════════════════════════════════»\n",
       "«                                                                              »\n",
       "«                                                                             »\n",
       "«q_2 -> 0 ───────────────────■────────────────────────────────────────────────»\n",
       "«         ┌───┐┌──────────┐┌─┴─┐┌──────────┐┌────┐┌─────────┐                 »\n",
       "«q_6 -> 1 ┤ X ├┤ Rz(-π/4) ├┤ X ├┤ Rz(-π/4) ├┤ √X ├┤ Rz(π/2) ├──■──────────────»\n",
       "«         └─┬─┘├─────────┬┘└───┘└──────────┘└────┘└─────────┘  │              »\n",
       "«q_5 -> 2 ──■──┤ Rz(π/4) ├─────────────────────────────────────┼──────────────»\n",
       "«              └─────────┘                                   ┌─┴─┐┌──────────┐»\n",
       "«q_4 -> 3 ───────────────────────────────────────────────────┤ X ├┤ Rz(-π/4) ├»\n",
       "«                                                            └───┘└──────────┘»\n",
       "«q_0 -> 4 ────────────────────────────────────────────────────────────────────»\n",
       "«                                                                             »\n",
       "«q_3 -> 5 ────────────────────────────────────────────────────────────────────»\n",
       "«                                                                             »\n",
       "«q_1 -> 6 ────────────────────────────────────────────────────────────────────»\n",
       "«                                                                             »\n",
       "«    c: 2/════════════════════════════════════════════════════════════════════»\n",
       "«                                                                             »\n",
       "«                                                                            »\n",
       "«q_2 -> 0 ───────────────────────────────────────────────────────────────────»\n",
       "«                              ┌─────────┐                                   »\n",
       "«q_6 -> 1 ──────────────────■──┤ Rz(π/4) ├───────────────────────────────────»\n",
       "«                           │  └─────────┘                                   »\n",
       "«q_5 -> 2 ──────────────────┼────────────────────────────────────────────────»\n",
       "«         ┌───┐┌─────────┐┌─┴─┐┌──────────┐┌───┐┌──────────┐┌────┐┌─────────┐»\n",
       "«q_4 -> 3 ┤ X ├┤ Rz(π/4) ├┤ X ├┤ Rz(-π/4) ├┤ X ├┤ Rz(-π/4) ├┤ √X ├┤ Rz(π/2) ├»\n",
       "«         └─┬─┘└─────────┘└───┘└──────────┘└─┬─┘└──────────┘└────┘└─────────┘»\n",
       "«q_0 -> 4 ──┼────────────────────────────────┼───────────────────────────────»\n",
       "«           │                                │                               »\n",
       "«q_3 -> 5 ──■────────────────────────────────■───────────────────────────────»\n",
       "«                                                                            »\n",
       "«q_1 -> 6 ───────────────────────────────────────────────────────────────────»\n",
       "«                                                                            »\n",
       "«    c: 2/═══════════════════════════════════════════════════════════════════»\n",
       "«                                                                            »\n",
       "«                                                      ┌───┐              »\n",
       "«q_2 -> 0 ───────────────────────────────────────■─────┤ X ├──────■───────»\n",
       "«                        ┌───┐┌──────────┐┌───┐┌─┴─┐   └─┬─┘    ┌─┴─┐     »\n",
       "«q_6 -> 1 ───────────────┤ X ├┤ Rz(-π/4) ├┤ X ├┤ X ├─────■──────┤ X ├──■──»\n",
       "«                        └─┬─┘└──────────┘└─┬─┘└───┘            └───┘┌─┴─┐»\n",
       "«q_5 -> 2 ─────────────────┼────────────────┼────────────────────────┤ X ├»\n",
       "«         ┌───┐     ┌───┐  │  ┌─────────┐   │                        └───┘»\n",
       "«q_4 -> 3 ┤ X ├──■──┤ X ├──■──┤ Rz(π/4) ├───■─────────────────────────────»\n",
       "«         └─┬─┘  │  └─┬─┘     └──┬───┬──┘                                 »\n",
       "«q_0 -> 4 ──┼────┼────┼────■─────┤ X ├──────■─────────────────────────────»\n",
       "«           │  ┌─┴─┐  │  ┌─┴─┐   └─┬─┘    ┌─┴─┐     ┌─────────┐           »\n",
       "«q_3 -> 5 ──■──┤ X ├──■──┤ X ├─────■──────┤ X ├──■──┤ Rz(π/4) ├───■───────»\n",
       "«              └───┘     └───┘            └───┘┌─┴─┐├─────────┴┐┌─┴─┐     »\n",
       "«q_1 -> 6 ─────────────────────────────────────┤ X ├┤ Rz(-π/4) ├┤ X ├─────»\n",
       "«                                              └───┘└──────────┘└───┘     »\n",
       "«    c: 2/════════════════════════════════════════════════════════════════»\n",
       "«                                                                         »\n",
       "«                      ░       \n",
       "«q_2 -> 0 ─────────────░───────\n",
       "«         ┌─────────┐  ░       \n",
       "«q_6 -> 1 ┤ Rz(π/4) ├──░───────\n",
       "«         ├─────────┴┐ ░ ┌─┐   \n",
       "«q_5 -> 2 ┤ Rz(-π/4) ├─░─┤M├───\n",
       "«         └──────────┘ ░ └╥┘   \n",
       "«q_4 -> 3 ─────────────░──╫────\n",
       "«                      ░  ║ ┌─┐\n",
       "«q_0 -> 4 ─────────────░──╫─┤M├\n",
       "«                      ░  ║ └╥┘\n",
       "«q_3 -> 5 ─────────────░──╫──╫─\n",
       "«                      ░  ║  ║ \n",
       "«q_1 -> 6 ─────────────░──╫──╫─\n",
       "«                      ░  ║  ║ \n",
       "«    c: 2/════════════════╩══╩═\n",
       "«                         0  1 "
      ]
     },
     "execution_count": 47,
     "metadata": {},
     "output_type": "execute_result"
    }
   ],
   "source": [
    "provider = IBMQ.get_provider(hub='ibm-q')\n",
    "provider.backends()\n",
    "\n",
    "ActualQuantumComputer = provider.get_backend('ibm_lagos') \n",
    "transpiled_circuit= transpile(circ, ActualQuantumComputer)\n",
    "transpiled_circuit.draw()"
   ]
  },
  {
   "cell_type": "code",
   "execution_count": 48,
   "id": "d2d7e305",
   "metadata": {},
   "outputs": [
    {
     "data": {
      "image/png": "[encoded data removed]",
      "text/plain": [
       "<Figure size 700x500 with 1 Axes>"
      ]
     },
     "execution_count": 48,
     "metadata": {},
     "output_type": "execute_result"
    }
   ],
   "source": [
    "result = ActualQuantumComputer.run(transpiled_circuit).result()\n",
    "counts = result.get_counts()\n",
    "plot_histogram(counts)"
   ]
  },
  {
   "cell_type": "code",
   "execution_count": null,
   "id": "392c4fef",
   "metadata": {},
   "outputs": [],
   "source": []
  }
 ],
 "metadata": {
  "kernelspec": {
   "display_name": "Python 3 (ipykernel)",
   "language": "python",
   "name": "python3"
  },
  "language_info": {
   "codemirror_mode": {
    "name": "ipython",
    "version": 3
   },
   "file_extension": ".py",
   "mimetype": "text/x-python",
   "name": "python",
   "nbconvert_exporter": "python",
   "pygments_lexer": "ipython3",
   "version": "3.11.5"
  }
 },
 "nbformat": 4,
 "nbformat_minor": 5
}
