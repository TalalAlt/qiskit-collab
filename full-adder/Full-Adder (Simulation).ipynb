{
 "cells": [
  {
   "cell_type": "code",
   "execution_count": 56,
   "id": "04aa780a",
   "metadata": {},
   "outputs": [],
   "source": [
    "import numpy as np\n",
    "from qiskit import QuantumCircuit\n",
    "from qiskit.visualization import plot_histogram"
   ]
  },
  {
   "cell_type": "code",
   "execution_count": 57,
   "id": "f7c98db3",
   "metadata": {},
   "outputs": [],
   "source": [
    "\n",
    "circ = QuantumCircuit(7,2)"
   ]
  },
  {
   "cell_type": "code",
   "execution_count": 58,
   "id": "8f6e8aca",
   "metadata": {},
   "outputs": [
    {
     "data": {
      "text/plain": [
       "<qiskit.circuit.instructionset.InstructionSet at 0x142eba920>"
      ]
     },
     "execution_count": 58,
     "metadata": {},
     "output_type": "execute_result"
    }
   ],
   "source": [
    "#The input qubits turned made (1,1,1)\n",
    "circ.x(0) \n",
    "circ.x(1)\n",
    "circ.x(2) "
   ]
  },
  {
   "cell_type": "code",
   "execution_count": 59,
   "id": "9ccf0da7",
   "metadata": {},
   "outputs": [
    {
     "data": {
      "text/plain": [
       "<qiskit.circuit.instructionset.InstructionSet at 0x142eba7d0>"
      ]
     },
     "execution_count": 59,
     "metadata": {},
     "output_type": "execute_result"
    }
   ],
   "source": [
    "#the XOR operations pertaining to qubit 0,1\n",
    "circ.cx(0,3)\n",
    "circ.cx(1,3) \n"
   ]
  },
  {
   "cell_type": "code",
   "execution_count": 60,
   "id": "6ec5c47c",
   "metadata": {},
   "outputs": [
    {
     "data": {
      "text/plain": [
       "<qiskit.circuit.instructionset.InstructionSet at 0x142ebaa40>"
      ]
     },
     "execution_count": 60,
     "metadata": {},
     "output_type": "execute_result"
    }
   ],
   "source": [
    "#The AND operations pertaining to qubit 0,1\n",
    "circ.ccx(0,1,4)\n",
    "\n",
    "#now unto operations done on the half adder (0,1) + qubit 2\n",
    "\n",
    "circ.ccx(2,3,5) #And operation on the half adder's sum + the value of qubit 2\n",
    "\n",
    "#producing full-adder sum\n",
    "circ.cx(2,3) #XOR operation between the value of the half adder's sum + the value of qubit 2 "
   ]
  },
  {
   "cell_type": "code",
   "execution_count": 61,
   "id": "22815359",
   "metadata": {},
   "outputs": [
    {
     "data": {
      "text/plain": [
       "<qiskit.circuit.instructionset.InstructionSet at 0x142ebb6a0>"
      ]
     },
     "execution_count": 61,
     "metadata": {},
     "output_type": "execute_result"
    }
   ],
   "source": [
    "#Now let's do an OR operation on the half adder's carry and the half adder + qubit 2 carry\n",
    "#I'm gonna use a nand to create OR gate through trofolli.\n",
    "\n",
    "#NOT operation on half adder carry value\n",
    "circ.x(4)\n",
    "\n",
    "#NOT operation on half adder + qubit 2 carry value \n",
    "circ.x(5)\n",
    "\n",
    "#AND operation on NOT (half adder carry) AND, NOT (half adder + qubit 2 carry) value to get carry of full adder\n",
    "circ.ccx(4,5,6)\n",
    "\n",
    "#and now NOT operation on carry of full adder to get an OR operation\n",
    "circ.x(6)"
   ]
  },
  {
   "cell_type": "code",
   "execution_count": 62,
   "id": "7afba0a1",
   "metadata": {},
   "outputs": [
    {
     "data": {
      "text/plain": [
       "<qiskit.circuit.instructionset.InstructionSet at 0x142ebba90>"
      ]
     },
     "execution_count": 62,
     "metadata": {},
     "output_type": "execute_result"
    }
   ],
   "source": [
    "#Okay now measuring sum and carry of full-adder\n",
    "circ.measure(3,0)\n",
    "circ.measure(6,1)"
   ]
  },
  {
   "cell_type": "code",
   "execution_count": 63,
   "id": "d6f49c4e",
   "metadata": {},
   "outputs": [
    {
     "data": {
      "text/html": [
       "<pre style=\"word-wrap: normal;white-space: pre;background: #fff0;line-height: 1.1;font-family: &quot;Courier New&quot;,Courier,monospace\">     ┌───┐                                         \n",
       "q_0: ┤ X ├──■─────────■────────────────────────────\n",
       "     ├───┤  │         │                            \n",
       "q_1: ┤ X ├──┼────■────■────────────────────────────\n",
       "     ├───┤  │    │    │                            \n",
       "q_2: ┤ X ├──┼────┼────┼────■────■──────────────────\n",
       "     └───┘┌─┴─┐┌─┴─┐  │    │  ┌─┴─┐     ┌─┐        \n",
       "q_3: ─────┤ X ├┤ X ├──┼────■──┤ X ├─────┤M├────────\n",
       "          └───┘└───┘┌─┴─┐  │  ├───┤     └╥┘        \n",
       "q_4: ───────────────┤ X ├──┼──┤ X ├──■───╫─────────\n",
       "                    └───┘┌─┴─┐├───┤  │   ║         \n",
       "q_5: ────────────────────┤ X ├┤ X ├──■───╫─────────\n",
       "                         └───┘└───┘┌─┴─┐ ║ ┌───┐┌─┐\n",
       "q_6: ──────────────────────────────┤ X ├─╫─┤ X ├┤M├\n",
       "                                   └───┘ ║ └───┘└╥┘\n",
       "c: 2/════════════════════════════════════╩═══════╩═\n",
       "                                         0       1 </pre>"
      ],
      "text/plain": [
       "     ┌───┐                                         \n",
       "q_0: ┤ X ├──■─────────■────────────────────────────\n",
       "     ├───┤  │         │                            \n",
       "q_1: ┤ X ├──┼────■────■────────────────────────────\n",
       "     ├───┤  │    │    │                            \n",
       "q_2: ┤ X ├──┼────┼────┼────■────■──────────────────\n",
       "     └───┘┌─┴─┐┌─┴─┐  │    │  ┌─┴─┐     ┌─┐        \n",
       "q_3: ─────┤ X ├┤ X ├──┼────■──┤ X ├─────┤M├────────\n",
       "          └───┘└───┘┌─┴─┐  │  ├───┤     └╥┘        \n",
       "q_4: ───────────────┤ X ├──┼──┤ X ├──■───╫─────────\n",
       "                    └───┘┌─┴─┐├───┤  │   ║         \n",
       "q_5: ────────────────────┤ X ├┤ X ├──■───╫─────────\n",
       "                         └───┘└───┘┌─┴─┐ ║ ┌───┐┌─┐\n",
       "q_6: ──────────────────────────────┤ X ├─╫─┤ X ├┤M├\n",
       "                                   └───┘ ║ └───┘└╥┘\n",
       "c: 2/════════════════════════════════════╩═══════╩═\n",
       "                                         0       1 "
      ]
     },
     "execution_count": 63,
     "metadata": {},
     "output_type": "execute_result"
    }
   ],
   "source": [
    "#Now for fun let's see our qubits drawing!\n",
    "circ.draw()"
   ]
  },
  {
   "cell_type": "code",
   "execution_count": 64,
   "id": "b69a984d",
   "metadata": {},
   "outputs": [],
   "source": [
    "#lets check the value of the qubits using a simulator!\n",
    "from qiskit import transpile \n",
    "from qiskit import IBMQ\n",
    "#IBMQ.save_account('')\n",
    "# Use AerSimulator\n",
    "from qiskit import Aer\n"
   ]
  },
  {
   "cell_type": "code",
   "execution_count": 65,
   "id": "40e91674",
   "metadata": {},
   "outputs": [
    {
     "data": {
      "image/png": "[encoded data removed]",
      "text/plain": [
       "<Figure size 700x500 with 1 Axes>"
      ]
     },
     "execution_count": 65,
     "metadata": {},
     "output_type": "execute_result"
    }
   ],
   "source": [
    "sim = Aer.get_backend('aer_simulator') \n",
    "result = sim.run(circ).result()\n",
    "counts = result.get_counts()\n",
    "plot_histogram(counts)"
   ]
  },
  {
   "cell_type": "code",
   "execution_count": null,
   "id": "c20ae6eb",
   "metadata": {},
   "outputs": [],
   "source": []
  }
 ],
 "metadata": {
  "kernelspec": {
   "display_name": "Python 3 (ipykernel)",
   "language": "python",
   "name": "python3"
  },
  "language_info": {
   "codemirror_mode": {
    "name": "ipython",
    "version": 3
   },
   "file_extension": ".py",
   "mimetype": "text/x-python",
   "name": "python",
   "nbconvert_exporter": "python",
   "pygments_lexer": "ipython3",
   "version": "3.11.5"
  }
 },
 "nbformat": 4,
 "nbformat_minor": 5
}
